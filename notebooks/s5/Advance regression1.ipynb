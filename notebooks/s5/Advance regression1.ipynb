{
 "cells": [
  {
   "cell_type": "code",
   "execution_count": 523,
   "id": "4e3ccbfa-f77a-4106-8511-a1d542a201b8",
   "metadata": {},
   "outputs": [],
   "source": [
    "import numpy as np\n",
    "import pandas as pd\n",
    "import matplotlib.pyplot as plt"
   ]
  },
  {
   "cell_type": "code",
   "execution_count": 525,
   "id": "4b57efb0-3312-4309-82ac-65352ec70160",
   "metadata": {},
   "outputs": [],
   "source": [
    "# https://www.statsmodels.org/stable/index.html\n",
    "import statsmodels.api as sm"
   ]
  },
  {
   "cell_type": "code",
   "execution_count": 527,
   "id": "b01fa032-6521-439c-90e1-71f859d2ab8e",
   "metadata": {},
   "outputs": [],
   "source": [
    "import warnings\n",
    "warnings.filterwarnings(\"ignore\")"
   ]
  },
  {
   "cell_type": "code",
   "execution_count": 529,
   "id": "8ebe01ca-c09e-42bd-bb51-e686eca5a812",
   "metadata": {},
   "outputs": [],
   "source": [
    "from functools import partial"
   ]
  },
  {
   "cell_type": "code",
   "execution_count": 531,
   "id": "059eeedd-dadd-4c0d-9c54-4d7255e6bd6a",
   "metadata": {},
   "outputs": [
    {
     "name": "stdout",
     "output_type": "stream",
     "text": [
      "envs Loaded\n"
     ]
    }
   ],
   "source": [
    "from dotenv import load_dotenv\n",
    "\n",
    "from pathlib import Path\n",
    "\n",
    "env_path = Path(\"../../.env-live\")\n",
    "\n",
    "if env_path.exists():\n",
    "    print('envs Loaded')\n",
    "    load_dotenv(dotenv_path=env_path)\n"
   ]
  },
  {
   "cell_type": "code",
   "execution_count": 644,
   "id": "dd8ece46-c3b5-466f-80b5-62931e3d177b",
   "metadata": {},
   "outputs": [
    {
     "name": "stdout",
     "output_type": "stream",
     "text": [
      "\n",
      "修正后的环境变量:\n",
      "S3_REGION: ca-central-1\n",
      "S3_ENDPOINT: s3.ca-central-1.wasabisys.com/273-g1\n",
      "S3_BUCKET: 273-g1\n"
     ]
    }
   ],
   "source": [
    "# 在修改.env-live文件后，重新加载环境变量\n",
    "from dotenv import load_dotenv\n",
    "load_dotenv(dotenv_path=env_path, override=True)  # 使用override确保覆盖现有值\n",
    "\n",
    "# 再次验证环境变量\n",
    "print(\"\\n修正后的环境变量:\")\n",
    "print(\"S3_REGION:\", os.getenv(\"JRJ_MODEL_REGISTRY_S3_REGION\"))\n",
    "print(\"S3_ENDPOINT:\", os.getenv(\"JRJ_MODEL_REGISTRY_S3_ENDPOINT\"))\n",
    "print(\"S3_BUCKET:\", os.getenv(\"JRJ_MODEL_REGISTRY_S3_BUCKET_NAME\"))"
   ]
  },
  {
   "cell_type": "code",
   "execution_count": 646,
   "id": "eae255a4-6468-4ea0-8bc6-f6114336cfb3",
   "metadata": {},
   "outputs": [],
   "source": [
    "# from jrjModelRegistry import handleDashboard, jrjRouterModelRegistry\n",
    "from jrjModelRegistry.jrjModelRegistry import registerAJrjModel"
   ]
  },
  {
   "cell_type": "code",
   "execution_count": 648,
   "id": "b80455f7-33a9-448a-b586-27f4da56b697",
   "metadata": {},
   "outputs": [
    {
     "name": "stdout",
     "output_type": "stream",
     "text": [
      "✅ MongoDB connected successfully.\n"
     ]
    }
   ],
   "source": [
    "from pymongo import MongoClient\n",
    "import os\n",
    "\n",
    "mongo_url = os.environ.get(\"JRJ_MONGODB_MODEL_REGISTRY\")\n",
    "client = MongoClient(mongo_url)\n",
    "\n",
    "try:\n",
    "    client.admin.command(\"ping\")\n",
    "    print(\"✅ MongoDB connected successfully.\")\n",
    "except Exception as e:\n",
    "    print(\"❌ MongoDB connection failed:\", e)\n"
   ]
  },
  {
   "cell_type": "code",
   "execution_count": 650,
   "id": "2e0ce1cf-fd15-4bbe-b733-c09126ba2951",
   "metadata": {},
   "outputs": [
    {
     "name": "stdout",
     "output_type": "stream",
     "text": [
      "验证环境变量:\n",
      "S3_REGION: ca-central-1\n",
      "S3_ENDPOINT: s3.ca-central-1.wasabisys.com/273-g1\n"
     ]
    }
   ],
   "source": [
    "# 在 load_dotenv 后添加检查代码\n",
    "import os\n",
    "print(\"验证环境变量:\")\n",
    "print(\"S3_REGION:\", os.getenv(\"JRJ_MODEL_REGISTRY_S3_REGION\"))\n",
    "print(\"S3_ENDPOINT:\", os.getenv(\"JRJ_MODEL_REGISTRY_S3_ENDPOINT\"))"
   ]
  },
  {
   "cell_type": "code",
   "execution_count": 652,
   "id": "2b025190-b308-40e9-a0ef-53f92d92f301",
   "metadata": {},
   "outputs": [
    {
     "name": "stdout",
     "output_type": "stream",
     "text": [
      "S3连接测试成功！Bucket内容:\n",
      "- 273-g1/Group1_regression_model1__1.0.0.pkl.zip\n",
      "- 273-g1/salaryRegModel1Fit__1.0.1.pkl.zip\n",
      "- 273-g1/teng_zhang_1_annArborRegModel1Fit__1.0.1.pkl.zip\n",
      "- 273-g1/teng_zhang_1_annArborRegModel2Fit__1.0.1.pkl.zip\n",
      "- 273-g1/teng_zhang_1_annArborRegModel3Fit__1.0.1.pkl.zip\n",
      "- 273-g1/teng_zhang_1_annArborRegModel4Fit__1.0.1.pkl.zip\n",
      "- 273-g1/teng_zhang_1_annArborRegModelBEST__1.0.1.pkl.zip\n",
      "- 273-g1/teng_zhang_annArborRegModel1Fit__1.0.1.pkl.zip\n",
      "- 273-g1/teng_zhang_annArborRegModel2Fit__1.0.1.pkl.zip\n",
      "- 273-g1/teng_zhang_annArborRegModel3Fit__1.0.1.pkl.zip\n",
      "- 273-g1/teng_zhang_annArborRegModel4Fit_RF__1.0.1.pkl.zip\n",
      "- 273-g1/teng_zhang_annArborRegModel4Fit_RT1__1.0.1.pkl.zip\n",
      "- 273-g1/teng_zhang_annArborRegModel4Fit_RT2__1.0.1.pkl.zip\n",
      "- 273-g1/teng_zhang_annArborRegModel4Fit__1.0.1.pkl.zip\n",
      "- 273-g1/teng_zhang_annArborRegModelBEST__1.0.1.pkl.zip\n",
      "- 273-g1/teng_zhang_dTModel1__1.0.1.pkl.zip\n",
      "- 273-g1/teng_zhang_dTModelBestAccuracy__1.0.1.pkl.zip\n",
      "- 273-g1/teng_zhang_dTModelBestF1__1.0.1.pkl.zip\n",
      "- 273-g1/teng_zhang_dTModelDefault__1.0.1.pkl.zip\n",
      "- 273-g1/teng_zhang_dTModelDepth__1.0.1.pkl.zip\n",
      "- 273-g1/teng_zhang_dTModelMinLeafEntropy__1.0.1.pkl.zip\n",
      "- 273-g1/teng_zhang_dTModelMinLeaf__1.0.1.pkl.zip\n",
      "- 273-g1/teng_zhang_dTModelMinSplit__1.0.1.pkl.zip\n",
      "- 273-g1/teng_zhang_evaluationBinaryCalssifiactionModelDt1__1.0.1.pkl.zip\n",
      "- 273-g1/teng_zhang_evaluationBinaryCalssifiactionModelDt__1.0.1.pkl.zip\n",
      "- 273-g1/teng_zhang_evaluationBinaryCalssifiactionModelWithExteraMetircs__1.0.1.pkl.zip\n",
      "- 273-g1/teng_zhang_mortgageLogRegModel2__1.0.1.pkl.zip\n",
      "- 273-g1/teng_zhang_mortgageRegModel1__1.0.1.pkl.zip\n",
      "- 273-g1/teng_zhang_salaryRegModel1Fit__1.0.1.pkl.zip\n",
      "- 273-g1/teng_zhang_salaryRegModel2Fit__1.0.1.pkl.zip\n",
      "- 273-g1/teng_zhang_salaryRegModel3Fit__1.0.1.pkl.zip\n",
      "- 273-g1/teng_zhang_salaryRegModel4Fit__1.0.1.pkl.zip\n",
      "- 273-g1/teng_zhang_salaryRegModel5Fit__1.0.1.pkl.zip\n",
      "- 273-g1/teng_zhang_salaryRegModelBEST__1.0.1.pkl.zip\n",
      "- 273-g1/teng_zhang_to_predictLogRegModelBestCrossValidation__1.0.1.pkl.zip\n",
      "- 273-g1/teng_zhang_to_predictModelBestCrossValidation__1.0.1.pkl.zip\n",
      "- 273-g1/teng_zhang_to_predictModelBest__1.0.1.pkl.zip\n",
      "- 273-g1/teng_zhang_wageModel1Fit__1.0.1.pkl.zip\n",
      "- 273-g1/teng_zhang_wageModel2Fit__1.0.1.pkl.zip\n",
      "- 273-g1/teng_zhang_wageModel3Fit__1.0.1.pkl.zip\n",
      "- 273-g1/teng_zhang_wageModel4Fit__1.0.1.pkl.zip\n",
      "- 273-g1/teng_zhang_wageModel5Fit__1.0.1.pkl.zip\n",
      "- 273-g1/teng_zhang_wageModelBEST__1.0.1.pkl.zip\n",
      "- models/salary_prediction_GradientBoosting_v1.0.2.joblib\n",
      "- models/salary_prediction_RandomForest_v1.0.4.joblib\n",
      "- models/salary_prediction_XGBoost_v1.0.3.joblib\n"
     ]
    }
   ],
   "source": [
    "# 临时创建S3客户端测试连接 - 修正版\n",
    "s3_test = boto3.client(\n",
    "    's3',\n",
    "    endpoint_url='https://s3.ca-central-1.wasabisys.com',  # 使用修正后的端点\n",
    "    region_name=os.getenv(\"JRJ_MODEL_REGISTRY_S3_REGION\"),\n",
    "    aws_access_key_id=os.getenv(\"JRJ_MODEL_REGISTRY_S3_KEY_ID\"),\n",
    "    aws_secret_access_key=os.getenv(\"JRJ_MODEL_REGISTRY_S3_KEY_SECRET\"),\n",
    "    config=Config(signature_version='s3v4')\n",
    ")\n",
    "\n",
    "try:\n",
    "    # 尝试列出bucket内容 - 指定特定bucket\n",
    "    response = s3_test.list_objects_v2(Bucket='273-g1')\n",
    "    print(\"S3连接测试成功！Bucket内容:\")\n",
    "    if 'Contents' in response:\n",
    "        for obj in response['Contents']:\n",
    "            print(f\"- {obj['Key']}\")\n",
    "    else:\n",
    "        print(\"Bucket为空\")\n",
    "except Exception as e:\n",
    "    print(f\"S3连接测试失败: {str(e)}\")"
   ]
  },
  {
   "cell_type": "code",
   "execution_count": 654,
   "id": "871e0138-8dd8-4b18-aa98-60745c5d99b1",
   "metadata": {},
   "outputs": [],
   "source": [
    "def generalRegressionPredictor(self,transformedData):\n",
    "    return self.predict(transformedData)\n",
    "# mainpredictor function"
   ]
  },
  {
   "cell_type": "code",
   "execution_count": 656,
   "id": "e969130b-d121-4325-bcc9-d2e18cc22aaf",
   "metadata": {},
   "outputs": [],
   "source": [
    "sallaryMisDf = pd.read_excel(\"https://www.dropbox.com/scl/fi/zt2vtwhpz8ndblsxqdqx1/Salary_MIS.xlsx?rlkey=2uk6m7m9w90isv6zsynhhhpyv&st=gxumjns5&dl=1\")"
   ]
  },
  {
   "cell_type": "code",
   "execution_count": 657,
   "id": "19195e35-5750-4c8b-aa5e-fe23a9fff921",
   "metadata": {},
   "outputs": [
    {
     "data": {
      "text/html": [
       "<div>\n",
       "<style scoped>\n",
       "    .dataframe tbody tr th:only-of-type {\n",
       "        vertical-align: middle;\n",
       "    }\n",
       "\n",
       "    .dataframe tbody tr th {\n",
       "        vertical-align: top;\n",
       "    }\n",
       "\n",
       "    .dataframe thead th {\n",
       "        text-align: right;\n",
       "    }\n",
       "</style>\n",
       "<table border=\"1\" class=\"dataframe\">\n",
       "  <thead>\n",
       "    <tr style=\"text-align: right;\">\n",
       "      <th></th>\n",
       "      <th>Salary</th>\n",
       "      <th>GPA</th>\n",
       "      <th>MIS</th>\n",
       "      <th>Statistics</th>\n",
       "    </tr>\n",
       "  </thead>\n",
       "  <tbody>\n",
       "    <tr>\n",
       "      <th>0</th>\n",
       "      <td>72</td>\n",
       "      <td>3.53</td>\n",
       "      <td>1</td>\n",
       "      <td>0</td>\n",
       "    </tr>\n",
       "    <tr>\n",
       "      <th>1</th>\n",
       "      <td>66</td>\n",
       "      <td>2.86</td>\n",
       "      <td>1</td>\n",
       "      <td>0</td>\n",
       "    </tr>\n",
       "    <tr>\n",
       "      <th>2</th>\n",
       "      <td>72</td>\n",
       "      <td>3.69</td>\n",
       "      <td>0</td>\n",
       "      <td>0</td>\n",
       "    </tr>\n",
       "    <tr>\n",
       "      <th>3</th>\n",
       "      <td>63</td>\n",
       "      <td>3.24</td>\n",
       "      <td>0</td>\n",
       "      <td>0</td>\n",
       "    </tr>\n",
       "    <tr>\n",
       "      <th>4</th>\n",
       "      <td>65</td>\n",
       "      <td>3.21</td>\n",
       "      <td>0</td>\n",
       "      <td>0</td>\n",
       "    </tr>\n",
       "    <tr>\n",
       "      <th>...</th>\n",
       "      <td>...</td>\n",
       "      <td>...</td>\n",
       "      <td>...</td>\n",
       "      <td>...</td>\n",
       "    </tr>\n",
       "    <tr>\n",
       "      <th>115</th>\n",
       "      <td>66</td>\n",
       "      <td>3.27</td>\n",
       "      <td>0</td>\n",
       "      <td>0</td>\n",
       "    </tr>\n",
       "    <tr>\n",
       "      <th>116</th>\n",
       "      <td>63</td>\n",
       "      <td>2.86</td>\n",
       "      <td>1</td>\n",
       "      <td>0</td>\n",
       "    </tr>\n",
       "    <tr>\n",
       "      <th>117</th>\n",
       "      <td>78</td>\n",
       "      <td>3.04</td>\n",
       "      <td>1</td>\n",
       "      <td>1</td>\n",
       "    </tr>\n",
       "    <tr>\n",
       "      <th>118</th>\n",
       "      <td>64</td>\n",
       "      <td>2.99</td>\n",
       "      <td>0</td>\n",
       "      <td>0</td>\n",
       "    </tr>\n",
       "    <tr>\n",
       "      <th>119</th>\n",
       "      <td>66</td>\n",
       "      <td>3.65</td>\n",
       "      <td>0</td>\n",
       "      <td>0</td>\n",
       "    </tr>\n",
       "  </tbody>\n",
       "</table>\n",
       "<p>120 rows × 4 columns</p>\n",
       "</div>"
      ],
      "text/plain": [
       "     Salary   GPA  MIS  Statistics\n",
       "0        72  3.53    1           0\n",
       "1        66  2.86    1           0\n",
       "2        72  3.69    0           0\n",
       "3        63  3.24    0           0\n",
       "4        65  3.21    0           0\n",
       "..      ...   ...  ...         ...\n",
       "115      66  3.27    0           0\n",
       "116      63  2.86    1           0\n",
       "117      78  3.04    1           1\n",
       "118      64  2.99    0           0\n",
       "119      66  3.65    0           0\n",
       "\n",
       "[120 rows x 4 columns]"
      ]
     },
     "execution_count": 657,
     "metadata": {},
     "output_type": "execute_result"
    }
   ],
   "source": [
    "sallaryMisDf"
   ]
  },
  {
   "cell_type": "code",
   "execution_count": 599,
   "id": "a91a561c-00df-4dfa-b17f-6012d37f7ebb",
   "metadata": {},
   "outputs": [
    {
     "data": {
      "text/plain": [
       "(120, 4)"
      ]
     },
     "execution_count": 599,
     "metadata": {},
     "output_type": "execute_result"
    }
   ],
   "source": [
    "sallaryMisDf.shape"
   ]
  },
  {
   "cell_type": "code",
   "execution_count": 600,
   "id": "f61f44a5-e798-44ae-8292-f9077fcbcba7",
   "metadata": {},
   "outputs": [
    {
     "data": {
      "text/html": [
       "<div>\n",
       "<style scoped>\n",
       "    .dataframe tbody tr th:only-of-type {\n",
       "        vertical-align: middle;\n",
       "    }\n",
       "\n",
       "    .dataframe tbody tr th {\n",
       "        vertical-align: top;\n",
       "    }\n",
       "\n",
       "    .dataframe thead th {\n",
       "        text-align: right;\n",
       "    }\n",
       "</style>\n",
       "<table border=\"1\" class=\"dataframe\">\n",
       "  <thead>\n",
       "    <tr style=\"text-align: right;\">\n",
       "      <th></th>\n",
       "      <th>Salary</th>\n",
       "      <th>GPA</th>\n",
       "      <th>MIS</th>\n",
       "      <th>Statistics</th>\n",
       "    </tr>\n",
       "  </thead>\n",
       "  <tbody>\n",
       "    <tr>\n",
       "      <th>count</th>\n",
       "      <td>120.000000</td>\n",
       "      <td>120.000000</td>\n",
       "      <td>120.000000</td>\n",
       "      <td>120.000000</td>\n",
       "    </tr>\n",
       "    <tr>\n",
       "      <th>mean</th>\n",
       "      <td>69.875000</td>\n",
       "      <td>3.242750</td>\n",
       "      <td>0.316667</td>\n",
       "      <td>0.341667</td>\n",
       "    </tr>\n",
       "    <tr>\n",
       "      <th>std</th>\n",
       "      <td>6.594577</td>\n",
       "      <td>0.493834</td>\n",
       "      <td>0.467127</td>\n",
       "      <td>0.476257</td>\n",
       "    </tr>\n",
       "    <tr>\n",
       "      <th>min</th>\n",
       "      <td>53.000000</td>\n",
       "      <td>2.410000</td>\n",
       "      <td>0.000000</td>\n",
       "      <td>0.000000</td>\n",
       "    </tr>\n",
       "    <tr>\n",
       "      <th>25%</th>\n",
       "      <td>65.750000</td>\n",
       "      <td>2.805000</td>\n",
       "      <td>0.000000</td>\n",
       "      <td>0.000000</td>\n",
       "    </tr>\n",
       "    <tr>\n",
       "      <th>50%</th>\n",
       "      <td>70.000000</td>\n",
       "      <td>3.280000</td>\n",
       "      <td>0.000000</td>\n",
       "      <td>0.000000</td>\n",
       "    </tr>\n",
       "    <tr>\n",
       "      <th>75%</th>\n",
       "      <td>73.250000</td>\n",
       "      <td>3.692500</td>\n",
       "      <td>1.000000</td>\n",
       "      <td>1.000000</td>\n",
       "    </tr>\n",
       "    <tr>\n",
       "      <th>max</th>\n",
       "      <td>88.000000</td>\n",
       "      <td>3.980000</td>\n",
       "      <td>1.000000</td>\n",
       "      <td>1.000000</td>\n",
       "    </tr>\n",
       "  </tbody>\n",
       "</table>\n",
       "</div>"
      ],
      "text/plain": [
       "           Salary         GPA         MIS  Statistics\n",
       "count  120.000000  120.000000  120.000000  120.000000\n",
       "mean    69.875000    3.242750    0.316667    0.341667\n",
       "std      6.594577    0.493834    0.467127    0.476257\n",
       "min     53.000000    2.410000    0.000000    0.000000\n",
       "25%     65.750000    2.805000    0.000000    0.000000\n",
       "50%     70.000000    3.280000    0.000000    0.000000\n",
       "75%     73.250000    3.692500    1.000000    1.000000\n",
       "max     88.000000    3.980000    1.000000    1.000000"
      ]
     },
     "execution_count": 600,
     "metadata": {},
     "output_type": "execute_result"
    }
   ],
   "source": [
    "sallaryMisDf.describe()"
   ]
  },
  {
   "cell_type": "code",
   "execution_count": 601,
   "id": "a69d9ed0-38e2-4470-bfc3-21b0b84cfa2c",
   "metadata": {},
   "outputs": [],
   "source": [
    "# creat transformer function\n",
    "def salaryRegModel1Transformer(dataForTransfer = None):\n",
    "    import pandas as pd\n",
    "    import statsmodels.api as sm\n",
    "    if isinstance(dataForTransfer, pd.DataFrame):\n",
    "        df=dataForTransfer.copy()\n",
    "    else:\n",
    "        df=pd.DataFrame(dataForTransfer)\n",
    "    dfTransformer = sm.add_constant(df[['GPA','MIS','Statistics']], has_constant=\"add\")\n",
    "    return dfTransformer\n",
    "# repeatitive for most of the models"
   ]
  },
  {
   "cell_type": "code",
   "execution_count": 602,
   "id": "5219a144-9e69-4315-b8df-930727cdc53e",
   "metadata": {},
   "outputs": [
    {
     "data": {
      "text/html": [
       "<div>\n",
       "<style scoped>\n",
       "    .dataframe tbody tr th:only-of-type {\n",
       "        vertical-align: middle;\n",
       "    }\n",
       "\n",
       "    .dataframe tbody tr th {\n",
       "        vertical-align: top;\n",
       "    }\n",
       "\n",
       "    .dataframe thead th {\n",
       "        text-align: right;\n",
       "    }\n",
       "</style>\n",
       "<table border=\"1\" class=\"dataframe\">\n",
       "  <thead>\n",
       "    <tr style=\"text-align: right;\">\n",
       "      <th></th>\n",
       "      <th>const</th>\n",
       "      <th>GPA</th>\n",
       "      <th>MIS</th>\n",
       "      <th>Statistics</th>\n",
       "    </tr>\n",
       "  </thead>\n",
       "  <tbody>\n",
       "    <tr>\n",
       "      <th>0</th>\n",
       "      <td>1.0</td>\n",
       "      <td>3.53</td>\n",
       "      <td>1</td>\n",
       "      <td>0</td>\n",
       "    </tr>\n",
       "    <tr>\n",
       "      <th>1</th>\n",
       "      <td>1.0</td>\n",
       "      <td>2.86</td>\n",
       "      <td>1</td>\n",
       "      <td>0</td>\n",
       "    </tr>\n",
       "    <tr>\n",
       "      <th>2</th>\n",
       "      <td>1.0</td>\n",
       "      <td>3.69</td>\n",
       "      <td>0</td>\n",
       "      <td>0</td>\n",
       "    </tr>\n",
       "    <tr>\n",
       "      <th>3</th>\n",
       "      <td>1.0</td>\n",
       "      <td>3.24</td>\n",
       "      <td>0</td>\n",
       "      <td>0</td>\n",
       "    </tr>\n",
       "    <tr>\n",
       "      <th>4</th>\n",
       "      <td>1.0</td>\n",
       "      <td>3.21</td>\n",
       "      <td>0</td>\n",
       "      <td>0</td>\n",
       "    </tr>\n",
       "    <tr>\n",
       "      <th>...</th>\n",
       "      <td>...</td>\n",
       "      <td>...</td>\n",
       "      <td>...</td>\n",
       "      <td>...</td>\n",
       "    </tr>\n",
       "    <tr>\n",
       "      <th>115</th>\n",
       "      <td>1.0</td>\n",
       "      <td>3.27</td>\n",
       "      <td>0</td>\n",
       "      <td>0</td>\n",
       "    </tr>\n",
       "    <tr>\n",
       "      <th>116</th>\n",
       "      <td>1.0</td>\n",
       "      <td>2.86</td>\n",
       "      <td>1</td>\n",
       "      <td>0</td>\n",
       "    </tr>\n",
       "    <tr>\n",
       "      <th>117</th>\n",
       "      <td>1.0</td>\n",
       "      <td>3.04</td>\n",
       "      <td>1</td>\n",
       "      <td>1</td>\n",
       "    </tr>\n",
       "    <tr>\n",
       "      <th>118</th>\n",
       "      <td>1.0</td>\n",
       "      <td>2.99</td>\n",
       "      <td>0</td>\n",
       "      <td>0</td>\n",
       "    </tr>\n",
       "    <tr>\n",
       "      <th>119</th>\n",
       "      <td>1.0</td>\n",
       "      <td>3.65</td>\n",
       "      <td>0</td>\n",
       "      <td>0</td>\n",
       "    </tr>\n",
       "  </tbody>\n",
       "</table>\n",
       "<p>120 rows × 4 columns</p>\n",
       "</div>"
      ],
      "text/plain": [
       "     const   GPA  MIS  Statistics\n",
       "0      1.0  3.53    1           0\n",
       "1      1.0  2.86    1           0\n",
       "2      1.0  3.69    0           0\n",
       "3      1.0  3.24    0           0\n",
       "4      1.0  3.21    0           0\n",
       "..     ...   ...  ...         ...\n",
       "115    1.0  3.27    0           0\n",
       "116    1.0  2.86    1           0\n",
       "117    1.0  3.04    1           1\n",
       "118    1.0  2.99    0           0\n",
       "119    1.0  3.65    0           0\n",
       "\n",
       "[120 rows x 4 columns]"
      ]
     },
     "execution_count": 602,
     "metadata": {},
     "output_type": "execute_result"
    }
   ],
   "source": [
    "sm.add_constant(sallaryMisDf[['GPA','MIS','Statistics']])"
   ]
  },
  {
   "cell_type": "code",
   "execution_count": 603,
   "id": "74580721-0859-4644-90e8-ef2b172c0e53",
   "metadata": {},
   "outputs": [
    {
     "data": {
      "text/plain": [
       "(120, 4)"
      ]
     },
     "execution_count": 603,
     "metadata": {},
     "output_type": "execute_result"
    }
   ],
   "source": [
    "sallaryMisDf.shape"
   ]
  },
  {
   "cell_type": "code",
   "execution_count": 604,
   "id": "299fdc46-94c5-4fae-87b9-52f24f35911e",
   "metadata": {},
   "outputs": [
    {
     "data": {
      "text/html": [
       "<div>\n",
       "<style scoped>\n",
       "    .dataframe tbody tr th:only-of-type {\n",
       "        vertical-align: middle;\n",
       "    }\n",
       "\n",
       "    .dataframe tbody tr th {\n",
       "        vertical-align: top;\n",
       "    }\n",
       "\n",
       "    .dataframe thead th {\n",
       "        text-align: right;\n",
       "    }\n",
       "</style>\n",
       "<table border=\"1\" class=\"dataframe\">\n",
       "  <thead>\n",
       "    <tr style=\"text-align: right;\">\n",
       "      <th></th>\n",
       "      <th>const</th>\n",
       "      <th>GPA</th>\n",
       "      <th>MIS</th>\n",
       "      <th>Statistics</th>\n",
       "    </tr>\n",
       "  </thead>\n",
       "  <tbody>\n",
       "    <tr>\n",
       "      <th>0</th>\n",
       "      <td>1.0</td>\n",
       "      <td>3.53</td>\n",
       "      <td>1</td>\n",
       "      <td>0</td>\n",
       "    </tr>\n",
       "    <tr>\n",
       "      <th>1</th>\n",
       "      <td>1.0</td>\n",
       "      <td>2.86</td>\n",
       "      <td>1</td>\n",
       "      <td>0</td>\n",
       "    </tr>\n",
       "    <tr>\n",
       "      <th>2</th>\n",
       "      <td>1.0</td>\n",
       "      <td>3.69</td>\n",
       "      <td>0</td>\n",
       "      <td>0</td>\n",
       "    </tr>\n",
       "    <tr>\n",
       "      <th>3</th>\n",
       "      <td>1.0</td>\n",
       "      <td>3.24</td>\n",
       "      <td>0</td>\n",
       "      <td>0</td>\n",
       "    </tr>\n",
       "    <tr>\n",
       "      <th>4</th>\n",
       "      <td>1.0</td>\n",
       "      <td>3.21</td>\n",
       "      <td>0</td>\n",
       "      <td>0</td>\n",
       "    </tr>\n",
       "    <tr>\n",
       "      <th>...</th>\n",
       "      <td>...</td>\n",
       "      <td>...</td>\n",
       "      <td>...</td>\n",
       "      <td>...</td>\n",
       "    </tr>\n",
       "    <tr>\n",
       "      <th>115</th>\n",
       "      <td>1.0</td>\n",
       "      <td>3.27</td>\n",
       "      <td>0</td>\n",
       "      <td>0</td>\n",
       "    </tr>\n",
       "    <tr>\n",
       "      <th>116</th>\n",
       "      <td>1.0</td>\n",
       "      <td>2.86</td>\n",
       "      <td>1</td>\n",
       "      <td>0</td>\n",
       "    </tr>\n",
       "    <tr>\n",
       "      <th>117</th>\n",
       "      <td>1.0</td>\n",
       "      <td>3.04</td>\n",
       "      <td>1</td>\n",
       "      <td>1</td>\n",
       "    </tr>\n",
       "    <tr>\n",
       "      <th>118</th>\n",
       "      <td>1.0</td>\n",
       "      <td>2.99</td>\n",
       "      <td>0</td>\n",
       "      <td>0</td>\n",
       "    </tr>\n",
       "    <tr>\n",
       "      <th>119</th>\n",
       "      <td>1.0</td>\n",
       "      <td>3.65</td>\n",
       "      <td>0</td>\n",
       "      <td>0</td>\n",
       "    </tr>\n",
       "  </tbody>\n",
       "</table>\n",
       "<p>120 rows × 4 columns</p>\n",
       "</div>"
      ],
      "text/plain": [
       "     const   GPA  MIS  Statistics\n",
       "0      1.0  3.53    1           0\n",
       "1      1.0  2.86    1           0\n",
       "2      1.0  3.69    0           0\n",
       "3      1.0  3.24    0           0\n",
       "4      1.0  3.21    0           0\n",
       "..     ...   ...  ...         ...\n",
       "115    1.0  3.27    0           0\n",
       "116    1.0  2.86    1           0\n",
       "117    1.0  3.04    1           1\n",
       "118    1.0  2.99    0           0\n",
       "119    1.0  3.65    0           0\n",
       "\n",
       "[120 rows x 4 columns]"
      ]
     },
     "execution_count": 604,
     "metadata": {},
     "output_type": "execute_result"
    }
   ],
   "source": [
    "sm.add_constant(sallaryMisDf[[\"GPA\", \"MIS\", \"Statistics\"]])"
   ]
  },
  {
   "cell_type": "code",
   "execution_count": 605,
   "id": "f9f2ebc5-ad03-42c5-a694-6638d0b1ec38",
   "metadata": {},
   "outputs": [],
   "source": [
    "# salaryRegModel1 = sm.OLS(\n",
    "#   sallaryMisDf[\"Salary\"], #dependent \n",
    "#   sm.add_constant(sallaryMisDf[[\"GPA\", \"MIS\", \"Statistics\"]])\n",
    "# )"
   ]
  },
  {
   "cell_type": "code",
   "execution_count": 660,
   "id": "787eab08-62e3-4b59-a73a-ffeeb1768087",
   "metadata": {},
   "outputs": [],
   "source": [
    "# calling my fuynction\n",
    "salaryRegModel1 = sm.OLS(\n",
    "  sallaryMisDf[\"Salary\"], #dependent \n",
    "  salaryRegModel1Transformer(sallaryMisDf)\n",
    ")"
   ]
  },
  {
   "cell_type": "code",
   "execution_count": 662,
   "id": "412c9836-3f88-4cf5-84c1-410cf92fbc81",
   "metadata": {},
   "outputs": [],
   "source": [
    "salaryRegModel1Fit = salaryRegModel1.fit()"
   ]
  },
  {
   "cell_type": "code",
   "execution_count": 664,
   "id": "e604a267-4174-4930-9bb2-cecd59128c55",
   "metadata": {},
   "outputs": [
    {
     "name": "stdout",
     "output_type": "stream",
     "text": [
      "                            OLS Regression Results                            \n",
      "==============================================================================\n",
      "Dep. Variable:                 Salary   R-squared:                       0.795\n",
      "Model:                            OLS   Adj. R-squared:                  0.790\n",
      "Method:                 Least Squares   F-statistic:                     150.3\n",
      "Date:                Tue, 08 Jul 2025   Prob (F-statistic):           8.35e-40\n",
      "Time:                        19:34:57   Log-Likelihood:                -300.92\n",
      "No. Observations:                 120   AIC:                             609.8\n",
      "Df Residuals:                     116   BIC:                             621.0\n",
      "Df Model:                           3                                         \n",
      "Covariance Type:            nonrobust                                         \n",
      "==============================================================================\n",
      "                 coef    std err          t      P>|t|      [0.025      0.975]\n",
      "------------------------------------------------------------------------------\n",
      "const         44.0072      1.860     23.662      0.000      40.324      47.691\n",
      "GPA            6.6227      0.569     11.649      0.000       5.497       7.749\n",
      "MIS            6.6071      0.595     11.098      0.000       5.428       7.786\n",
      "Statistics     6.7309      0.591     11.391      0.000       5.561       7.901\n",
      "==============================================================================\n",
      "Omnibus:                        1.144   Durbin-Watson:                   2.164\n",
      "Prob(Omnibus):                  0.564   Jarque-Bera (JB):                0.758\n",
      "Skew:                          -0.172   Prob(JB):                        0.685\n",
      "Kurtosis:                       3.182   Cond. No.                         24.4\n",
      "==============================================================================\n",
      "\n",
      "Notes:\n",
      "[1] Standard Errors assume that the covariance matrix of the errors is correctly specified.\n"
     ]
    }
   ],
   "source": [
    "print(salaryRegModel1Fit.summary())"
   ]
  },
  {
   "cell_type": "code",
   "execution_count": 609,
   "id": "532535d8-4c8e-46c4-b4ae-fbdfcdb59747",
   "metadata": {},
   "outputs": [
    {
     "data": {
      "text/html": [
       "<div>\n",
       "<style scoped>\n",
       "    .dataframe tbody tr th:only-of-type {\n",
       "        vertical-align: middle;\n",
       "    }\n",
       "\n",
       "    .dataframe tbody tr th {\n",
       "        vertical-align: top;\n",
       "    }\n",
       "\n",
       "    .dataframe thead th {\n",
       "        text-align: right;\n",
       "    }\n",
       "</style>\n",
       "<table border=\"1\" class=\"dataframe\">\n",
       "  <thead>\n",
       "    <tr style=\"text-align: right;\">\n",
       "      <th></th>\n",
       "      <th>Salary</th>\n",
       "      <th>GPA</th>\n",
       "      <th>MIS</th>\n",
       "      <th>Statistics</th>\n",
       "    </tr>\n",
       "  </thead>\n",
       "  <tbody>\n",
       "    <tr>\n",
       "      <th>0</th>\n",
       "      <td>72</td>\n",
       "      <td>3.53</td>\n",
       "      <td>1</td>\n",
       "      <td>0</td>\n",
       "    </tr>\n",
       "    <tr>\n",
       "      <th>1</th>\n",
       "      <td>66</td>\n",
       "      <td>2.86</td>\n",
       "      <td>1</td>\n",
       "      <td>0</td>\n",
       "    </tr>\n",
       "    <tr>\n",
       "      <th>2</th>\n",
       "      <td>72</td>\n",
       "      <td>3.69</td>\n",
       "      <td>0</td>\n",
       "      <td>0</td>\n",
       "    </tr>\n",
       "    <tr>\n",
       "      <th>3</th>\n",
       "      <td>63</td>\n",
       "      <td>3.24</td>\n",
       "      <td>0</td>\n",
       "      <td>0</td>\n",
       "    </tr>\n",
       "    <tr>\n",
       "      <th>4</th>\n",
       "      <td>65</td>\n",
       "      <td>3.21</td>\n",
       "      <td>0</td>\n",
       "      <td>0</td>\n",
       "    </tr>\n",
       "    <tr>\n",
       "      <th>...</th>\n",
       "      <td>...</td>\n",
       "      <td>...</td>\n",
       "      <td>...</td>\n",
       "      <td>...</td>\n",
       "    </tr>\n",
       "    <tr>\n",
       "      <th>115</th>\n",
       "      <td>66</td>\n",
       "      <td>3.27</td>\n",
       "      <td>0</td>\n",
       "      <td>0</td>\n",
       "    </tr>\n",
       "    <tr>\n",
       "      <th>116</th>\n",
       "      <td>63</td>\n",
       "      <td>2.86</td>\n",
       "      <td>1</td>\n",
       "      <td>0</td>\n",
       "    </tr>\n",
       "    <tr>\n",
       "      <th>117</th>\n",
       "      <td>78</td>\n",
       "      <td>3.04</td>\n",
       "      <td>1</td>\n",
       "      <td>1</td>\n",
       "    </tr>\n",
       "    <tr>\n",
       "      <th>118</th>\n",
       "      <td>64</td>\n",
       "      <td>2.99</td>\n",
       "      <td>0</td>\n",
       "      <td>0</td>\n",
       "    </tr>\n",
       "    <tr>\n",
       "      <th>119</th>\n",
       "      <td>66</td>\n",
       "      <td>3.65</td>\n",
       "      <td>0</td>\n",
       "      <td>0</td>\n",
       "    </tr>\n",
       "  </tbody>\n",
       "</table>\n",
       "<p>120 rows × 4 columns</p>\n",
       "</div>"
      ],
      "text/plain": [
       "     Salary   GPA  MIS  Statistics\n",
       "0        72  3.53    1           0\n",
       "1        66  2.86    1           0\n",
       "2        72  3.69    0           0\n",
       "3        63  3.24    0           0\n",
       "4        65  3.21    0           0\n",
       "..      ...   ...  ...         ...\n",
       "115      66  3.27    0           0\n",
       "116      63  2.86    1           0\n",
       "117      78  3.04    1           1\n",
       "118      64  2.99    0           0\n",
       "119      66  3.65    0           0\n",
       "\n",
       "[120 rows x 4 columns]"
      ]
     },
     "execution_count": 609,
     "metadata": {},
     "output_type": "execute_result"
    }
   ],
   "source": [
    "sallaryMisDf"
   ]
  },
  {
   "cell_type": "code",
   "execution_count": 666,
   "id": "da5ba7d2-498f-463c-9bcb-9cc3326f3246",
   "metadata": {},
   "outputs": [],
   "source": [
    "salaryRegModel1SampleData = {\n",
    "    \"GPA\": [3.53],\n",
    "    \"MIS\": [1],\n",
    "    \"Statistics\": [0]\n",
    "}"
   ]
  },
  {
   "cell_type": "code",
   "execution_count": 668,
   "id": "bac19b5e-d874-466e-b2b5-05de3a95bd22",
   "metadata": {},
   "outputs": [],
   "source": [
    "salaryRegModel1Fit.transformer = salaryRegModel1Transformer"
   ]
  },
  {
   "cell_type": "code",
   "execution_count": 670,
   "id": "85e6d07d-6db3-490c-8176-1cf3dd418822",
   "metadata": {},
   "outputs": [
    {
     "data": {
      "text/html": [
       "<div>\n",
       "<style scoped>\n",
       "    .dataframe tbody tr th:only-of-type {\n",
       "        vertical-align: middle;\n",
       "    }\n",
       "\n",
       "    .dataframe tbody tr th {\n",
       "        vertical-align: top;\n",
       "    }\n",
       "\n",
       "    .dataframe thead th {\n",
       "        text-align: right;\n",
       "    }\n",
       "</style>\n",
       "<table border=\"1\" class=\"dataframe\">\n",
       "  <thead>\n",
       "    <tr style=\"text-align: right;\">\n",
       "      <th></th>\n",
       "      <th>const</th>\n",
       "      <th>GPA</th>\n",
       "      <th>MIS</th>\n",
       "      <th>Statistics</th>\n",
       "    </tr>\n",
       "  </thead>\n",
       "  <tbody>\n",
       "    <tr>\n",
       "      <th>0</th>\n",
       "      <td>1.0</td>\n",
       "      <td>3.53</td>\n",
       "      <td>1</td>\n",
       "      <td>0</td>\n",
       "    </tr>\n",
       "  </tbody>\n",
       "</table>\n",
       "</div>"
      ],
      "text/plain": [
       "   const   GPA  MIS  Statistics\n",
       "0    1.0  3.53    1           0"
      ]
     },
     "execution_count": 670,
     "metadata": {},
     "output_type": "execute_result"
    }
   ],
   "source": [
    "test1 = salaryRegModel1Fit.transformer(salaryRegModel1SampleData)\n",
    "test1"
   ]
  },
  {
   "cell_type": "code",
   "execution_count": 672,
   "id": "1a995831-3bd7-402f-8d7d-01386a77ea33",
   "metadata": {},
   "outputs": [],
   "source": [
    "salaryRegModel1Fit.mainPredictor = partial(generalRegressionPredictor,salaryRegModel1Fit)"
   ]
  },
  {
   "cell_type": "code",
   "execution_count": 676,
   "id": "5f673667-8106-4264-bfa8-93dd700c1b78",
   "metadata": {},
   "outputs": [
    {
     "data": {
      "text/plain": [
       "0    73.992468\n",
       "dtype: float64"
      ]
     },
     "execution_count": 676,
     "metadata": {},
     "output_type": "execute_result"
    }
   ],
   "source": [
    "salaryRegModel1Fit.mainPredictor(test1)"
   ]
  },
  {
   "cell_type": "code",
   "execution_count": 678,
   "id": "efe16f2f-1665-4d5a-ae91-5b2a6f7a12b6",
   "metadata": {},
   "outputs": [
    {
     "data": {
      "text/plain": [
       "{'modelName': 'zihan_su__salaryRegModel1Fit',\n",
       " 'version': '1.0.1',\n",
       " 'params': {'const': 44.007246340574866,\n",
       "  'GPA': 6.622706150356169,\n",
       "  'MIS': 6.607068893822079,\n",
       "  'Statistics': 6.7309311433580135},\n",
       " 'score': 0.7953924097617404,\n",
       " 'modelLibraray': 'sm.OLS',\n",
       " 'libraryMetadata': {'pvalues': {'const': 3.2704010980896686e-46,\n",
       "   'GPA': 3.0777930774061555e-21,\n",
       "   'MIS': 6.058766938187595e-20,\n",
       "   'Statistics': 1.237978135734885e-20},\n",
       "  'r_squared': 0.7953924097617404,\n",
       "  'adj_r_squared': 0.7901008341521303},\n",
       " 'sampleData': {'dataForTransfer': {'GPA': [3.53],\n",
       "   'MIS': [1],\n",
       "   'Statistics': [0]}}}"
      ]
     },
     "execution_count": 678,
     "metadata": {},
     "output_type": "execute_result"
    }
   ],
   "source": [
    "salaryRegModel1FitMetadata = {\n",
    "    \"modelName\":f\"zihan_su__salaryRegModel1Fit\",\n",
    "    \"version\":\"1.0.1\",\n",
    "    \"params\": salaryRegModel1Fit.params.to_dict(),\n",
    "    \"score\": float(salaryRegModel1Fit.rsquared),\n",
    "    \"modelLibraray\": 'sm.OLS',\n",
    "    \"libraryMetadata\": {\n",
    "        \"pvalues\": salaryRegModel1Fit.pvalues.to_dict(),\n",
    "        \"r_squared\": float(salaryRegModel1Fit.rsquared),\n",
    "        \"adj_r_squared\": float(salaryRegModel1Fit.rsquared_adj)\n",
    "    },\n",
    "\n",
    "    \"sampleData\": {\n",
    "        \"dataForTransfer\": salaryRegModel1SampleData\n",
    "    }\n",
    "}\n",
    "salaryRegModel1FitMetadata"
   ]
  },
  {
   "cell_type": "code",
   "execution_count": null,
   "id": "8991bbbf-2f3a-4724-9d7a-7e062c8fa977",
   "metadata": {},
   "outputs": [],
   "source": []
  },
  {
   "cell_type": "code",
   "execution_count": null,
   "id": "a003b719-fb27-4919-9625-1d14c0bb77a3",
   "metadata": {},
   "outputs": [],
   "source": []
  },
  {
   "cell_type": "code",
   "execution_count": 684,
   "id": "6e774e8f-93ed-4bbb-8154-1200ff3b39ba",
   "metadata": {},
   "outputs": [
    {
     "name": "stdout",
     "output_type": "stream",
     "text": [
      "❌ Upload failed via PUT: 403 <?xml version=\"1.0\" encoding=\"UTF-8\"?>\n",
      "<Error><Code>SignatureDoesNotMatch</Code><Message>The request signature we calculated does not match the signature you provided. Check your key and signing method.</Message><AWSAccessKeyId>Q57X4P0GR5L8FI6580K7</AWSAccessKeyId><StringToSign>PUT&#xA;&#xA;&#xA;1751975857&#xA;/273-g1/273-g1/zihan_su__salaryRegModel1Fit__1.0.1.pkl.zip</StringToSign><SignatureProvided>8/sDPBQWKpQlZb1TmziYunMetRc=</SignatureProvided><StringToSignBytes>50 55 54 a a a 31 37 35 31 39 37 35 38 35 37 a 2f 32 37 33 2d 67 31 2f 32 37 33 2d 67 31 2f 7a 69 68 61 6e 5f 73 75 5f 5f 73 61 6c 61 72 79 52 65 67 4d 6f 64 65 6c 31 46 69 74 5f 5f 31 2e 30 2e 31 2e 70 6b 6c 2e 7a 69 70</StringToSignBytes><RequestId>F064F7994C144553:A</RequestId><HostId>l9vypW1DemBzJIX7VJXpeEjmSq1hTGcriIiOIbOfhr/qdUaC0kUsH7RqnKZZ5Edd6tviinNIgkLl</HostId><CMReferenceId>MTc1MTk3NTI1ODg0MCAzOC4xNDMuMTQ2LjEwMiBDb25JRDoxODYyMDE1MTM2L0VuZ2luZUNvbklEOjE3ODY4MjcyL0NvcmU6OTA=</CMReferenceId></Error>\n"
     ]
    }
   ],
   "source": [
    "# 临时覆盖环境变量\n",
    "os.environ[\"JRJ_MODEL_REGISTRY_S3_ENDPOINT\"] = \"s3.ca-central-1.wasabisys.com\"\n",
    "\n",
    "# 重新创建S3客户端（如果需要）\n",
    "from jrjModelRegistry.jrjModelRegistry import registerAJrjModel\n",
    "registerAJrjModel(salaryRegModel1Fit, salaryRegModel1FitMetadata)"
   ]
  },
  {
   "cell_type": "code",
   "execution_count": 680,
   "id": "4989e117-2f92-4ec2-803e-a8664b19d91b",
   "metadata": {},
   "outputs": [
    {
     "name": "stdout",
     "output_type": "stream",
     "text": [
      "❌ Upload failed via PUT: 403 <?xml version=\"1.0\" encoding=\"UTF-8\"?>\n",
      "<Error><Code>SignatureDoesNotMatch</Code><Message>The request signature we calculated does not match the signature you provided. Check your key and signing method.</Message><AWSAccessKeyId>Q57X4P0GR5L8FI6580K7</AWSAccessKeyId><StringToSign>PUT&#xA;&#xA;&#xA;1751975263&#xA;/273-g1/273-g1/zihan_su__salaryRegModel1Fit__1.0.1.pkl.zip</StringToSign><SignatureProvided>JEVS/+89wLJa0+Y5HI7eUPWLghk=</SignatureProvided><StringToSignBytes>50 55 54 a a a 31 37 35 31 39 37 35 32 36 33 a 2f 32 37 33 2d 67 31 2f 32 37 33 2d 67 31 2f 7a 69 68 61 6e 5f 73 75 5f 5f 73 61 6c 61 72 79 52 65 67 4d 6f 64 65 6c 31 46 69 74 5f 5f 31 2e 30 2e 31 2e 70 6b 6c 2e 7a 69 70</StringToSignBytes><RequestId>1CDADDF9E0A6B06A:B</RequestId><HostId>IHOZA7eeALczEIGD43yOoKIYgErG2hL0X0qlNjhs6lkWQYjC7uFAzAHg5xhdp60gCd3vSF1+OiPX</HostId><CMReferenceId>MTc1MTk3NDY2NDQ5MyAzOC4xNDMuMTQ2LjEwMyBDb25JRDoxODYxOTA3NDYxL0VuZ2luZUNvbklEOjE3ODc3ODIzL0NvcmU6NjU=</CMReferenceId></Error>\n"
     ]
    }
   ],
   "source": [
    "registerAJrjModel(salaryRegModel1Fit, salaryRegModel1FitMetadata)"
   ]
  },
  {
   "cell_type": "code",
   "execution_count": null,
   "id": "1c7d8959-f5bd-4e63-a100-9f72752fee21",
   "metadata": {},
   "outputs": [],
   "source": []
  },
  {
   "cell_type": "code",
   "execution_count": null,
   "id": "0d8127fa-3ced-45ac-954a-bee39c0a5101",
   "metadata": {},
   "outputs": [],
   "source": []
  },
  {
   "cell_type": "code",
   "execution_count": null,
   "id": "36315f40-2091-447c-a836-2b9b16840b41",
   "metadata": {},
   "outputs": [],
   "source": []
  },
  {
   "cell_type": "code",
   "execution_count": null,
   "id": "c469eb9a-65ae-401c-b042-a5566de095de",
   "metadata": {},
   "outputs": [],
   "source": [
    "sallaryMisDf"
   ]
  },
  {
   "cell_type": "code",
   "execution_count": null,
   "id": "bef410c3-df6e-44a0-98d7-6689dd78378f",
   "metadata": {},
   "outputs": [],
   "source": [
    "sallaryMisDf[\"misXStatistics\"] = sallaryMisDf[\"MIS\"] * sallaryMisDf[\"Statistics\"]\n",
    "sallaryMisDf['misXStatistics1'] = sallaryMisDf.apply(lambda row: row['MIS'] * row['Statistics'], axis=1)\n",
    "\n",
    "sallaryMisDf"
   ]
  },
  {
   "cell_type": "code",
   "execution_count": null,
   "id": "c202e0a7-d558-4704-943b-e43b39feec6f",
   "metadata": {},
   "outputs": [],
   "source": [
    "salaryRegModel2 = sm.OLS(\n",
    "  sallaryMisDf[\"Salary\"],\n",
    "  sm.add_constant(\n",
    "      sallaryMisDf[[\n",
    "          \"GPA\",\n",
    "          \"MIS\",\n",
    "          \"Statistics\",\n",
    "          \"misXStatistics1\"\n",
    "      ]]\n",
    "  )\n",
    ")"
   ]
  },
  {
   "cell_type": "code",
   "execution_count": null,
   "id": "a9569f6e-4727-4187-b70f-3c9cf94220f5",
   "metadata": {},
   "outputs": [],
   "source": [
    "salaryRegModel2Fit = salaryRegModel2.fit()"
   ]
  },
  {
   "cell_type": "code",
   "execution_count": null,
   "id": "803f5f04-6fbd-4ab7-abd1-bcf200689f89",
   "metadata": {},
   "outputs": [],
   "source": [
    "print(salaryRegModel2Fit.summary())"
   ]
  },
  {
   "cell_type": "code",
   "execution_count": null,
   "id": "8159c687-527e-4e1f-a3b9-22019180a633",
   "metadata": {},
   "outputs": [],
   "source": [
    "salaryRegModel2SampleData = salaryRegModel1SampleData"
   ]
  },
  {
   "cell_type": "code",
   "execution_count": null,
   "id": "84eaf7a9-07e0-4880-8ae7-683be1909ff7",
   "metadata": {},
   "outputs": [],
   "source": [
    "def salaryRegModel2Transformer(dataForTransfer = None):\n",
    "    import pandas as pd\n",
    "    import statsmodels.api as sm\n",
    "    dfTransformer = pd.DataFrame(dataForTransfer)\n",
    "    dfTransformer['misXStatistics1'] = dfTransformer.apply(lambda row: row['MIS'] * row['Statistics'], axis=1)\n",
    "    dfTransformer = sm.add_constant(dfTransformer[['GPA', 'MIS', 'Statistics', 'misXStatistics1']])\n",
    "    return dfTransformer"
   ]
  },
  {
   "cell_type": "code",
   "execution_count": null,
   "id": "06ebe00c-faa0-4ecd-b83d-b0a6ecd68514",
   "metadata": {},
   "outputs": [],
   "source": [
    "salaryRegModel2Fit.transformer = salaryRegModel2Transformer"
   ]
  },
  {
   "cell_type": "code",
   "execution_count": null,
   "id": "3e09092e-748a-4605-9785-3219f0221264",
   "metadata": {},
   "outputs": [],
   "source": [
    "salaryRegModel2Fit.mainPredictor = partial(salaryRegModel1MainPredictor, salaryRegModel2Fit)"
   ]
  },
  {
   "cell_type": "code",
   "execution_count": null,
   "id": "ef3fcaf3-cc96-4bb2-b574-7ff92e4bad43",
   "metadata": {},
   "outputs": [],
   "source": [
    "test2 = salaryRegModel2Fit.transformer(salaryRegModel2SampleData)\n",
    "test2"
   ]
  },
  {
   "cell_type": "code",
   "execution_count": null,
   "id": "52c242ca-7ce0-4f5d-a9e4-d37f45f78396",
   "metadata": {},
   "outputs": [],
   "source": [
    "salaryRegModel2Fit.mainPredictor(test2)"
   ]
  },
  {
   "cell_type": "code",
   "execution_count": null,
   "id": "7d0810ac-541e-48b1-a888-6a4ebaf90414",
   "metadata": {},
   "outputs": [],
   "source": [
    "salaryRegModel2FitMetadata = {\n",
    "    \"modelName\":f\"salaryRegModel2Fit\",\n",
    "    \"version\":\"1.0.1\",\n",
    "    \"params\": salaryRegModel2Fit.params.to_dict(),\n",
    "    \"score\": float(salaryRegModel2Fit.rsquared),\n",
    "    \"modelLibraray\": 'sm.OLS',\n",
    "    \"libraryMetadata\": {\n",
    "        \"pvalues\": salaryRegModel2Fit.pvalues.to_dict(),\n",
    "        \"r_squared\": float(salaryRegModel2Fit.rsquared),\n",
    "        \"adj_r_squared\": float(salaryRegModel2Fit.rsquared_adj)\n",
    "    },\n",
    "\n",
    "    \"sampleData\": {\n",
    "        \"dataForTransfer\": salaryRegModel2SampleData\n",
    "    }\n",
    "}\n",
    "salaryRegModel2FitMetadata"
   ]
  },
  {
   "cell_type": "code",
   "execution_count": null,
   "id": "0f73e07b-5701-4f74-b55e-32029ff0f955",
   "metadata": {},
   "outputs": [],
   "source": [
    "registerAJrjModel(salaryRegModel2Fit, salaryRegModel2FitMetadata)"
   ]
  },
  {
   "cell_type": "code",
   "execution_count": null,
   "id": "1c9ea991-1b99-4de4-95b6-691fcb8b9670",
   "metadata": {},
   "outputs": [],
   "source": [
    "sallaryMisDf['misXGpa'] = sallaryMisDf.apply(lambda row: row['MIS'] * row['GPA'], axis=1)\n",
    "\n",
    "sallaryMisDf\n"
   ]
  },
  {
   "cell_type": "code",
   "execution_count": null,
   "id": "079dd30c-b259-4d8c-b052-ccbd95c00228",
   "metadata": {},
   "outputs": [],
   "source": [
    "salaryRegModel3 = sm.OLS(\n",
    "  sallaryMisDf[\"Salary\"],\n",
    "  sm.add_constant(\n",
    "      sallaryMisDf[[\n",
    "          \"GPA\",\n",
    "          \"MIS\",\n",
    "          \"Statistics\",\n",
    "          \"misXGpa\"\n",
    "      ]]\n",
    "  )\n",
    ")"
   ]
  },
  {
   "cell_type": "code",
   "execution_count": null,
   "id": "1bd0c7dc-57db-486b-a986-8b46f0098764",
   "metadata": {},
   "outputs": [],
   "source": [
    "salaryRegModel3Fit = salaryRegModel3.fit()"
   ]
  },
  {
   "cell_type": "code",
   "execution_count": null,
   "id": "839d701f-e6e9-4a13-a611-03abeffa7daf",
   "metadata": {},
   "outputs": [],
   "source": [
    "print(salaryRegModel3Fit.summary())"
   ]
  },
  {
   "cell_type": "code",
   "execution_count": null,
   "id": "d8a898bf-434e-4f01-9de9-5096aba52556",
   "metadata": {},
   "outputs": [],
   "source": [
    "salaryRegModel3Fit = salaryRegModel3.fit()"
   ]
  },
  {
   "cell_type": "code",
   "execution_count": null,
   "id": "3946074e-0796-452c-8c40-29af3c9f5b12",
   "metadata": {},
   "outputs": [],
   "source": [
    "print(salaryRegModel3Fit.summary())"
   ]
  },
  {
   "cell_type": "code",
   "execution_count": null,
   "id": "f4b0552c-beec-480e-b06f-5f8eec606cc1",
   "metadata": {},
   "outputs": [],
   "source": [
    "sallaryMisDf['statisticsXGpa'] = sallaryMisDf.apply(lambda row: row['Statistics'] * row['GPA'], axis=1)\n",
    "\n",
    "sallaryMisDf"
   ]
  },
  {
   "cell_type": "code",
   "execution_count": null,
   "id": "18ebdb71-fd7e-4a15-9cda-f8548b277824",
   "metadata": {},
   "outputs": [],
   "source": [
    "salaryRegModel4 = sm.OLS(\n",
    "  sallaryMisDf[\"Salary\"],\n",
    "  sm.add_constant(\n",
    "      sallaryMisDf[[\n",
    "          \"GPA\",\n",
    "          \"MIS\",\n",
    "          \"Statistics\",\n",
    "          \"statisticsXGpa\"\n",
    "      ]]\n",
    "  )\n",
    ")"
   ]
  },
  {
   "cell_type": "code",
   "execution_count": null,
   "id": "776b0f8e-e871-48dc-af0e-fcbeb4fd5b17",
   "metadata": {},
   "outputs": [],
   "source": [
    "salaryRegModel4Fit = salaryRegModel4.fit()"
   ]
  },
  {
   "cell_type": "code",
   "execution_count": null,
   "id": "d26c6a1c-cb61-4595-a220-4f8f6bd1aa63",
   "metadata": {},
   "outputs": [],
   "source": [
    "print(salaryRegModel4Fit.summary())"
   ]
  },
  {
   "cell_type": "code",
   "execution_count": null,
   "id": "51491d80-ac4a-4177-aad6-1e8bb8b58766",
   "metadata": {},
   "outputs": [],
   "source": [
    "salaryRegModel5 = sm.OLS(\n",
    "  sallaryMisDf[\"Salary\"],\n",
    "  sm.add_constant(\n",
    "      sallaryMisDf[[\n",
    "          \"GPA\",\n",
    "          \"MIS\",\n",
    "          \"Statistics\",\n",
    "          \"misXStatistics1\",\n",
    "          \"misXGpa\",\n",
    "          \"statisticsXGpa\"\n",
    "      ]]\n",
    "  )\n",
    ")"
   ]
  },
  {
   "cell_type": "code",
   "execution_count": null,
   "id": "38bc8e69-2e22-487b-a7a4-c6ac4d22ef2a",
   "metadata": {},
   "outputs": [],
   "source": [
    "salaryRegModel5Fit = salaryRegModel5.fit()"
   ]
  },
  {
   "cell_type": "code",
   "execution_count": null,
   "id": "db404344-d2bc-447c-b9fd-ccf12835dfc8",
   "metadata": {},
   "outputs": [],
   "source": [
    "print(salaryRegModel5Fit.summary())"
   ]
  },
  {
   "cell_type": "code",
   "execution_count": null,
   "id": "8c543f06-ed91-43c0-92a1-5fb04be5d8ce",
   "metadata": {},
   "outputs": [],
   "source": [
    "salaryRegModel6 = sm.OLS(\n",
    "  sallaryMisDf[\"Salary\"],\n",
    "  sm.add_constant(\n",
    "      sallaryMisDf[[\n",
    "          \"GPA\",\n",
    "          # \"MIS\",\n",
    "          \"Statistics\",\n",
    "          \"misXStatistics1\",\n",
    "          # \"misXGpa\",\n",
    "          # \"statisticsXGpa\"\n",
    "      ]]\n",
    "  )\n",
    ")"
   ]
  },
  {
   "cell_type": "code",
   "execution_count": null,
   "id": "6eaa4ed1-6930-4772-a261-d68b643603e8",
   "metadata": {},
   "outputs": [],
   "source": [
    "salaryRegModel6Fit = salaryRegModel6.fit()"
   ]
  },
  {
   "cell_type": "code",
   "execution_count": null,
   "id": "b07cb92f-edef-48b5-bba4-66093538d40e",
   "metadata": {},
   "outputs": [],
   "source": [
    "print(salaryRegModel6Fit.summary())"
   ]
  },
  {
   "cell_type": "markdown",
   "id": "e15ca44d-4460-4bac-acdf-5465122e3f36",
   "metadata": {},
   "source": [
    "## AFTER AREFULLY LOOKUP WE RELIZED  salaryRegModel4Fit SO LETS KEEP IT AS THE BEST"
   ]
  },
  {
   "cell_type": "code",
   "execution_count": null,
   "id": "8efe236d-36e0-4c30-a459-bd5eb05dcf00",
   "metadata": {},
   "outputs": [],
   "source": [
    "def salaryRegModel4Transformer(dataForTransfer = None):\n",
    "    import pandas as pd\n",
    "    import statsmodels.api as sm\n",
    "    dfTransformer = pd.DataFrame(dataForTransfer)\n",
    "    dfTransformer['statisticsXGpa'] = dfTransformer.apply(lambda row: row['Statistics'] * row['GPA'], axis=1)\n",
    "    dfTransformer = sm.add_constant(dfTransformer[['GPA', 'MIS', 'Statistics', 'statisticsXGpa']])\n",
    "    return dfTransformer"
   ]
  },
  {
   "cell_type": "code",
   "execution_count": null,
   "id": "dc0dd8cf-09ad-4c64-93f8-5ffa1e1d788f",
   "metadata": {},
   "outputs": [],
   "source": [
    "salaryRegModel4Fit.transformer = salaryRegModel4Transformer"
   ]
  },
  {
   "cell_type": "code",
   "execution_count": null,
   "id": "82a50ac7-4a7a-43a7-af8d-469186fa8ec3",
   "metadata": {},
   "outputs": [],
   "source": [
    "salaryRegModel4Fit.mainPredictor = partial(salaryRegModel1MainPredictor, salaryRegModel4Fit)"
   ]
  },
  {
   "cell_type": "code",
   "execution_count": null,
   "id": "c06b6d49-1eca-4e88-b60d-70598fe56978",
   "metadata": {},
   "outputs": [],
   "source": [
    "test4 = salaryRegModel4Fit.transformer(salaryRegModel2SampleData)\n",
    "test4"
   ]
  },
  {
   "cell_type": "code",
   "execution_count": null,
   "id": "b48345a4-db63-4c44-ac69-39a54bf514e1",
   "metadata": {},
   "outputs": [],
   "source": [
    "salaryRegModel4Fit.mainPredictor(test4)"
   ]
  },
  {
   "cell_type": "code",
   "execution_count": null,
   "id": "dd6e0b4d-a1c3-4624-95e9-e81aefe75432",
   "metadata": {},
   "outputs": [],
   "source": [
    "salaryRegModel4FitMetadata = {\n",
    "    \"modelName\":f\"salaryRegModel4Fit\",\n",
    "    \"version\":\"1.0.1\",\n",
    "    \"params\": salaryRegModel4Fit.params.to_dict(),\n",
    "    \"score\": float(salaryRegModel4Fit.rsquared),\n",
    "    \"modelLibraray\": 'sm.OLS',\n",
    "    \"libraryMetadata\": {\n",
    "        \"pvalues\": salaryRegModel4Fit.pvalues.to_dict(),\n",
    "        \"r_squared\": float(salaryRegModel4Fit.rsquared),\n",
    "        \"adj_r_squared\": float(salaryRegModel4Fit.rsquared_adj)\n",
    "    },\n",
    "\n",
    "    \"sampleData\": {\n",
    "        \"dataForTransfer\": salaryRegModel2SampleData\n",
    "    }\n",
    "}\n",
    "salaryRegModel4FitMetadata"
   ]
  },
  {
   "cell_type": "code",
   "execution_count": null,
   "id": "dadecbfd-e3f7-48e1-84f5-c4263e704410",
   "metadata": {},
   "outputs": [],
   "source": [
    "registerAJrjModel(salaryRegModel4Fit, salaryRegModel4FitMetadata)"
   ]
  },
  {
   "cell_type": "code",
   "execution_count": null,
   "id": "945a2747-7386-452d-90c5-2c1ad183a39b",
   "metadata": {},
   "outputs": [],
   "source": [
    "sallaryMisDf\n"
   ]
  },
  {
   "cell_type": "code",
   "execution_count": null,
   "id": "75f1bf7a-f316-4d48-996a-d6d94b4fddfd",
   "metadata": {},
   "outputs": [],
   "source": []
  },
  {
   "cell_type": "code",
   "execution_count": null,
   "id": "e2bd268e-b80b-4ed2-9bb0-90a03e439228",
   "metadata": {},
   "outputs": [],
   "source": []
  },
  {
   "cell_type": "code",
   "execution_count": null,
   "id": "66a87a71-f543-455e-8018-c48b7c7b49e8",
   "metadata": {},
   "outputs": [],
   "source": []
  }
 ],
 "metadata": {
  "kernelspec": {
   "display_name": "Python 3 (ipykernel)",
   "language": "python",
   "name": "python3"
  },
  "language_info": {
   "codemirror_mode": {
    "name": "ipython",
    "version": 3
   },
   "file_extension": ".py",
   "mimetype": "text/x-python",
   "name": "python",
   "nbconvert_exporter": "python",
   "pygments_lexer": "ipython3",
   "version": "3.12.4"
  }
 },
 "nbformat": 4,
 "nbformat_minor": 5
}
